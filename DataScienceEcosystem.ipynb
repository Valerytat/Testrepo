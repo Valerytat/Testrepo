{
 "cells": [
  {
   "cell_type": "markdown",
   "id": "e3be7844",
   "metadata": {},
   "source": [
    "# Data Science Tools and Ecosystem"
   ]
  },
  {
   "cell_type": "markdown",
   "id": "f7aeab54",
   "metadata": {},
   "source": [
    "In this notebook, Data Science Tools and Ecosystem are summarized."
   ]
  },
  {
   "cell_type": "markdown",
   "id": "7baaf784",
   "metadata": {},
   "source": [
    "### Some of the popular languages that Data Scientists use are:\n",
    "Python, R, SQL, Scala, Java, C++, Julia"
   ]
  },
  {
   "cell_type": "markdown",
   "id": "a89cf004",
   "metadata": {},
   "source": [
    "### Some of the commonly used libraries used by Data Scientists include:\n",
    "Pandas, Matplotlib, Seaborn, Tensorflow, Keras, Sckit-learn"
   ]
  },
  {
   "cell_type": "markdown",
   "id": "164da1a9",
   "metadata": {},
   "source": [
    "| Data Science Tools   |\n",
    "| --------  |\n",
    "| Jupiter Notebooks  |\n",
    "| Jupiter Lab  |\n",
    "| Anaconda  |\n",
    "| VS Code   |\n",
    "| RStudio   |\n",
    "| GitHub    |"
   ]
  },
  {
   "cell_type": "markdown",
   "id": "04a02b39",
   "metadata": {},
   "source": [
    "### Below are a few examples of evaluating arithmetic expressions in Python.\n",
    "a = 2 + 3,\n",
    "b = 2 * 3, \n",
    "c = a ** b, \n",
    "d = 10 / 3"
   ]
  },
  {
   "cell_type": "code",
   "execution_count": 1,
   "id": "1118979f",
   "metadata": {},
   "outputs": [
    {
     "name": "stdout",
     "output_type": "stream",
     "text": [
      "17\n"
     ]
    }
   ],
   "source": [
    "# this is a simple arithmetic\n",
    "a = (3 * 4) + 5\n",
    "print(a)"
   ]
  },
  {
   "cell_type": "code",
   "execution_count": 2,
   "id": "e7f6d41c",
   "metadata": {},
   "outputs": [
    {
     "name": "stdout",
     "output_type": "stream",
     "text": [
      "3.3333333333333335\n"
     ]
    }
   ],
   "source": [
    "# This will convert 200 minutes to hours by diving by 60.\n",
    "mn = 200\n",
    "hours = mn / 60\n",
    "print (hours)"
   ]
  },
  {
   "cell_type": "markdown",
   "id": "aa7315dd",
   "metadata": {},
   "source": [
    "__Objectives:__ Learn what are DS tools, Learn what are DS main languages, Learn what are DS main libraries, Create a Jupiter NoteBook, Use Markdown, Save and share file with GitHub"
   ]
  },
  {
   "cell_type": "markdown",
   "id": "77f855e7",
   "metadata": {},
   "source": [
    "## Author's name: Valery"
   ]
  },
  {
   "cell_type": "code",
   "execution_count": null,
   "id": "f0c8c900",
   "metadata": {},
   "outputs": [],
   "source": []
  }
 ],
 "metadata": {
  "kernelspec": {
   "display_name": "Python 3 (ipykernel)",
   "language": "python",
   "name": "python3"
  },
  "language_info": {
   "codemirror_mode": {
    "name": "ipython",
    "version": 3
   },
   "file_extension": ".py",
   "mimetype": "text/x-python",
   "name": "python",
   "nbconvert_exporter": "python",
   "pygments_lexer": "ipython3",
   "version": "3.11.5"
  }
 },
 "nbformat": 4,
 "nbformat_minor": 5
}
