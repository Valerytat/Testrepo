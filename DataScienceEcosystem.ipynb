{
 "cells": [
  {
   "cell_type": "markdown",
   "id": "4b013111",
   "metadata": {},
   "source": [
    "# Data Science Tools and Ecosystem"
   ]
  },
  {
   "cell_type": "markdown",
   "id": "4ff09c7f",
   "metadata": {},
   "source": [
    "In this notebook, Data Science Tools and Ecosystem are summarized."
   ]
  },
  {
   "cell_type": "markdown",
   "id": "0efc61b6",
   "metadata": {},
   "source": [
    "### Some of the popular languages that Data Scientists use are:\n",
    "Python, R, ..."
   ]
  },
  {
   "cell_type": "markdown",
   "id": "2827390b",
   "metadata": {},
   "source": [
    "### Some of the commonly used libraries used by Data Scientists include:\n",
    "Pandas, numpy, tensorflow, ..."
   ]
  },
  {
   "cell_type": "markdown",
   "id": "6efb0d08",
   "metadata": {},
   "source": [
    "| Data Science Tools   |\n",
    "| -------- |\n",
    "| Scikit-learn  |\n",
    "| Matplotlib |\n",
    "| TensorFlow    |"
   ]
  },
  {
   "cell_type": "markdown",
   "id": "8d9d7074",
   "metadata": {},
   "source": [
    "### Below are a few examples of evaluating arithmetic expressions in Python.\n",
    "a = 2 + 3,\n",
    "b = 2 * 3, \n",
    "c = a ** b, \n",
    "d = b / a"
   ]
  },
  {
   "cell_type": "code",
   "execution_count": 1,
   "id": "52bd441f",
   "metadata": {},
   "outputs": [
    {
     "name": "stdout",
     "output_type": "stream",
     "text": [
      "17\n"
     ]
    }
   ],
   "source": [
    "# this is a simple arithmetic\n",
    "a = (3 * 4) + 5\n",
    "print(a)"
   ]
  },
  {
   "cell_type": "code",
   "execution_count": 2,
   "id": "05085a43",
   "metadata": {},
   "outputs": [
    {
     "name": "stdout",
     "output_type": "stream",
     "text": [
      "3.3333333333333335\n"
     ]
    }
   ],
   "source": [
    "# This will convert 200 minutes to hours by diving by 60.\n",
    "mn = 200\n",
    "hours = mn / 60\n",
    "print (hours)"
   ]
  },
  {
   "cell_type": "markdown",
   "id": "4090e4bb",
   "metadata": {},
   "source": [
    "__Objectives:__ Learn DS tools, Learn DS main languages, Learn DS main libraries"
   ]
  },
  {
   "cell_type": "markdown",
   "id": "31855e56",
   "metadata": {},
   "source": [
    "## Author's name: Valery"
   ]
  },
  {
   "cell_type": "code",
   "execution_count": null,
   "id": "2b45e5b9",
   "metadata": {},
   "outputs": [],
   "source": []
  }
 ],
 "metadata": {
  "kernelspec": {
   "display_name": "Python 3 (ipykernel)",
   "language": "python",
   "name": "python3"
  },
  "language_info": {
   "codemirror_mode": {
    "name": "ipython",
    "version": 3
   },
   "file_extension": ".py",
   "mimetype": "text/x-python",
   "name": "python",
   "nbconvert_exporter": "python",
   "pygments_lexer": "ipython3",
   "version": "3.11.5"
  }
 },
 "nbformat": 4,
 "nbformat_minor": 5
}
